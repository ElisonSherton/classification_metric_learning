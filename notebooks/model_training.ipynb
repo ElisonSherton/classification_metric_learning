{
 "cells": [
  {
   "cell_type": "markdown",
   "id": "d2e496ba",
   "metadata": {},
   "source": [
    "# Model Training"
   ]
  },
  {
   "cell_type": "code",
   "execution_count": null,
   "id": "c9eddda3-6d48-4282-9838-dd7915087abf",
   "metadata": {},
   "outputs": [],
   "source": [
    "from fastai.vision.all import *\n",
    "import sys\n",
    "sys.path.append(\"../scripts/\")\n",
    "from data_utils import *\n",
    "from model_utils import *"
   ]
  },
  {
   "cell_type": "code",
   "execution_count": 18,
   "id": "c3d14a38-c9f8-41ef-b1e8-b8e377eea1e6",
   "metadata": {},
   "outputs": [],
   "source": [
    "# Define how to compute the feature vector\n",
    "def compute_fv(mdl, x):\n",
    "    with torch.no_grad():\n",
    "        fvec = mdl.get_fv(x).cpu()\n",
    "        return fvec    \n",
    "\n",
    "# Define the recall at topk=10\n",
    "def recallat10(x, y):\n",
    "    \n",
    "    top_k = 5\n",
    "    start = time.time()\n",
    "    device = \"cuda\" if torch.cuda.is_available() else \"cpu\"\n",
    "    mdl = learn.model.to(device)\n",
    "    \n",
    "    test_dl, classes, query_idxs, gallery_idxs = get_test_dl(learn.dls)\n",
    "    test_dl.to(device)\n",
    "    \n",
    "    # Compute the feature vectors\n",
    "    fvs = []\n",
    "    for xb,  in test_dl:\n",
    "        fvs.append(compute_fv(mdl, xb))\n",
    "    fvs = torch.cat(fvs)\n",
    "    \n",
    "    query_fvs = fvs[query_idxs, :]\n",
    "    gallery_fvs = fvs[gallery_idxs, :]\n",
    "    \n",
    "    query_classes = [classes[x] for x in query_idxs]\n",
    "    gallery_classes = [classes[x] for x in gallery_idxs]\n",
    "    \n",
    "    query_skus = [test_dl.items[x] for x in query_idxs]\n",
    "    gallery_skus = [test_dl.items[x] for x in gallery_idxs]\n",
    "    \n",
    "    # Compute the similarity matrix and get the rankings in a topk fashion\n",
    "    similarity_matrix = torch.mm(query_fvs, gallery_fvs.T)\n",
    "    ranking = similarity_matrix.argsort(descending = True)\n",
    "    \n",
    "    # Check for every sku whether in top k neighbours, there is a sku with same class as the query sku\n",
    "    count = 0; idx = 0\n",
    "    for row in ranking:\n",
    "        # Find the class of this query sku\n",
    "        current_idx_class = query_classes[idx]\n",
    "        idx += 1\n",
    "        \n",
    "        # Find the class of neighbouring skus\n",
    "        nbr_classes = [gallery_classes[x] for x in row[:top_k]]\n",
    "        \n",
    "        # Check if the neighbours include an instance of the class from the query skus\n",
    "        if current_idx_class in nbr_classes: \n",
    "            count += 1\n",
    "        \n",
    "    # Compute the recall for k classes\n",
    "    recall_at_k = count / ranking.shape[0]\n",
    "    return recall_at_k"
   ]
  },
  {
   "cell_type": "code",
   "execution_count": 3,
   "id": "786d0b40-2699-4bf7-afcf-86cdd6c16511",
   "metadata": {},
   "outputs": [
    {
     "data": {
      "text/html": [
       "\n",
       "<style>\n",
       "    /* Turns off some styling */\n",
       "    progress {\n",
       "        /* gets rid of default border in Firefox and Opera. */\n",
       "        border: none;\n",
       "        /* Needs to be in here for Safari polyfill so background images work as expected. */\n",
       "        background-size: auto;\n",
       "    }\n",
       "    .progress-bar-interrupted, .progress-bar-interrupted::-webkit-progress-bar {\n",
       "        background: #F44336;\n",
       "    }\n",
       "</style>\n"
      ],
      "text/plain": [
       "<IPython.core.display.HTML object>"
      ]
     },
     "metadata": {},
     "output_type": "display_data"
    },
    {
     "data": {
      "text/html": [],
      "text/plain": [
       "<IPython.core.display.HTML object>"
      ]
     },
     "metadata": {},
     "output_type": "display_data"
    },
    {
     "data": {
      "text/plain": [
       "SuggestedLRs(valley=0.0002290867705596611)"
      ]
     },
     "execution_count": 3,
     "metadata": {},
     "output_type": "execute_result"
    },
    {
     "data": {
      "image/png": "[encoded data removed]",
      "text/plain": [
       "<Figure size 432x288 with 1 Axes>"
      ]
     },
     "metadata": {
      "needs_background": "light"
     },
     "output_type": "display_data"
    }
   ],
   "source": [
    "# Define the loss function\n",
    "dls = get_dls()\n",
    "device = \"cuda\" if torch.cuda.is_available() else \"cpu\"\n",
    "model = classification_model(dls.c).to(device)\n",
    "loss_func = NormSoftmaxLoss().to(device)\n",
    "\n",
    "# Define the recall metric\n",
    "recall_metric = AccumMetric(recallat10, dim_argmax = -1)\n",
    "\n",
    "# Define the learner\n",
    "learn = Learner(dls, model, loss_func, splitter = effnet_splitter, metrics = [accuracy, recall_metric])\n",
    "learn.freeze_to(-2)\n",
    "learn.lr_find()"
   ]
  },
  {
   "cell_type": "code",
   "execution_count": 4,
   "id": "f9946d75-10aa-457b-b1be-aefce1012d04",
   "metadata": {},
   "outputs": [
    {
     "data": {
      "text/html": [
       "\n",
       "<style>\n",
       "    /* Turns off some styling */\n",
       "    progress {\n",
       "        /* gets rid of default border in Firefox and Opera. */\n",
       "        border: none;\n",
       "        /* Needs to be in here for Safari polyfill so background images work as expected. */\n",
       "        background-size: auto;\n",
       "    }\n",
       "    .progress-bar-interrupted, .progress-bar-interrupted::-webkit-progress-bar {\n",
       "        background: #F44336;\n",
       "    }\n",
       "</style>\n"
      ],
      "text/plain": [
       "<IPython.core.display.HTML object>"
      ]
     },
     "metadata": {},
     "output_type": "display_data"
    },
    {
     "data": {
      "text/html": [
       "<table border=\"1\" class=\"dataframe\">\n",
       "  <thead>\n",
       "    <tr style=\"text-align: left;\">\n",
       "      <th>epoch</th>\n",
       "      <th>train_loss</th>\n",
       "      <th>valid_loss</th>\n",
       "      <th>accuracy</th>\n",
       "      <th>recallat10</th>\n",
       "      <th>time</th>\n",
       "    </tr>\n",
       "  </thead>\n",
       "  <tbody>\n",
       "    <tr>\n",
       "      <td>0</td>\n",
       "      <td>9.374063</td>\n",
       "      <td>9.343337</td>\n",
       "      <td>0.000000</td>\n",
       "      <td>0.323156</td>\n",
       "      <td>08:16</td>\n",
       "    </tr>\n",
       "    <tr>\n",
       "      <td>1</td>\n",
       "      <td>9.172375</td>\n",
       "      <td>9.125726</td>\n",
       "      <td>0.000000</td>\n",
       "      <td>0.405301</td>\n",
       "      <td>11:02</td>\n",
       "    </tr>\n",
       "    <tr>\n",
       "      <td>2</td>\n",
       "      <td>8.059314</td>\n",
       "      <td>7.814932</td>\n",
       "      <td>0.026042</td>\n",
       "      <td>0.435911</td>\n",
       "      <td>08:13</td>\n",
       "    </tr>\n",
       "    <tr>\n",
       "      <td>3</td>\n",
       "      <td>7.538287</td>\n",
       "      <td>7.299446</td>\n",
       "      <td>0.052083</td>\n",
       "      <td>0.500775</td>\n",
       "      <td>07:10</td>\n",
       "    </tr>\n",
       "    <tr>\n",
       "      <td>4</td>\n",
       "      <td>7.394789</td>\n",
       "      <td>7.199810</td>\n",
       "      <td>0.065104</td>\n",
       "      <td>0.506975</td>\n",
       "      <td>07:25</td>\n",
       "    </tr>\n",
       "  </tbody>\n",
       "</table>"
      ],
      "text/plain": [
       "<IPython.core.display.HTML object>"
      ]
     },
     "metadata": {},
     "output_type": "display_data"
    },
    {
     "name": "stdout",
     "output_type": "stream",
     "text": [
      "Better model found at epoch 0 with valid_loss value: 9.343337059020996.\n",
      "Better model found at epoch 1 with valid_loss value: 9.125725746154785.\n",
      "Better model found at epoch 2 with valid_loss value: 7.814932346343994.\n",
      "Better model found at epoch 3 with valid_loss value: 7.299446105957031.\n",
      "Better model found at epoch 4 with valid_loss value: 7.199809551239014.\n"
     ]
    }
   ],
   "source": [
    "learn.fit_one_cycle(5, 3e-4, cbs = [SaveModelCallback()])"
   ]
  },
  {
   "cell_type": "code",
   "execution_count": 5,
   "id": "66a7df2b-429a-4877-97bb-4fefafd90268",
   "metadata": {},
   "outputs": [
    {
     "data": {
      "text/html": [
       "\n",
       "<style>\n",
       "    /* Turns off some styling */\n",
       "    progress {\n",
       "        /* gets rid of default border in Firefox and Opera. */\n",
       "        border: none;\n",
       "        /* Needs to be in here for Safari polyfill so background images work as expected. */\n",
       "        background-size: auto;\n",
       "    }\n",
       "    .progress-bar-interrupted, .progress-bar-interrupted::-webkit-progress-bar {\n",
       "        background: #F44336;\n",
       "    }\n",
       "</style>\n"
      ],
      "text/plain": [
       "<IPython.core.display.HTML object>"
      ]
     },
     "metadata": {},
     "output_type": "display_data"
    },
    {
     "data": {
      "text/html": [],
      "text/plain": [
       "<IPython.core.display.HTML object>"
      ]
     },
     "metadata": {},
     "output_type": "display_data"
    },
    {
     "data": {
      "text/plain": [
       "SuggestedLRs(valley=4.786300905834651e-06)"
      ]
     },
     "execution_count": 5,
     "metadata": {},
     "output_type": "execute_result"
    },
    {
     "data": {
      "image/png": "[encoded data removed]",
      "text/plain": [
       "<Figure size 432x288 with 1 Axes>"
      ]
     },
     "metadata": {
      "needs_background": "light"
     },
     "output_type": "display_data"
    }
   ],
   "source": [
    "learn.unfreeze()\n",
    "learn.lr_find()"
   ]
  },
  {
   "cell_type": "code",
   "execution_count": 7,
   "id": "d1934371-bbdb-47ad-9999-a68bf9289e38",
   "metadata": {},
   "outputs": [],
   "source": [
    "learn.export(\"../inshop_classification_baseline_frozen.pkl\")"
   ]
  },
  {
   "cell_type": "code",
   "execution_count": 8,
   "id": "55923f38-58c1-4bee-b59d-e9b5d5a5701e",
   "metadata": {},
   "outputs": [
    {
     "data": {
      "text/html": [
       "\n",
       "<style>\n",
       "    /* Turns off some styling */\n",
       "    progress {\n",
       "        /* gets rid of default border in Firefox and Opera. */\n",
       "        border: none;\n",
       "        /* Needs to be in here for Safari polyfill so background images work as expected. */\n",
       "        background-size: auto;\n",
       "    }\n",
       "    .progress-bar-interrupted, .progress-bar-interrupted::-webkit-progress-bar {\n",
       "        background: #F44336;\n",
       "    }\n",
       "</style>\n"
      ],
      "text/plain": [
       "<IPython.core.display.HTML object>"
      ]
     },
     "metadata": {},
     "output_type": "display_data"
    },
    {
     "data": {
      "text/html": [
       "<table border=\"1\" class=\"dataframe\">\n",
       "  <thead>\n",
       "    <tr style=\"text-align: left;\">\n",
       "      <th>epoch</th>\n",
       "      <th>train_loss</th>\n",
       "      <th>valid_loss</th>\n",
       "      <th>accuracy</th>\n",
       "      <th>recallat10</th>\n",
       "      <th>time</th>\n",
       "    </tr>\n",
       "  </thead>\n",
       "  <tbody>\n",
       "    <tr>\n",
       "      <td>0</td>\n",
       "      <td>7.541043</td>\n",
       "      <td>7.272987</td>\n",
       "      <td>0.072917</td>\n",
       "      <td>0.669792</td>\n",
       "      <td>09:13</td>\n",
       "    </tr>\n",
       "    <tr>\n",
       "      <td>1</td>\n",
       "      <td>7.317745</td>\n",
       "      <td>7.096011</td>\n",
       "      <td>0.080729</td>\n",
       "      <td>0.724892</td>\n",
       "      <td>09:01</td>\n",
       "    </tr>\n",
       "    <tr>\n",
       "      <td>2</td>\n",
       "      <td>6.895531</td>\n",
       "      <td>6.744589</td>\n",
       "      <td>0.088542</td>\n",
       "      <td>0.778363</td>\n",
       "      <td>08:57</td>\n",
       "    </tr>\n",
       "    <tr>\n",
       "      <td>3</td>\n",
       "      <td>6.393095</td>\n",
       "      <td>6.139523</td>\n",
       "      <td>0.125000</td>\n",
       "      <td>0.828115</td>\n",
       "      <td>16:44</td>\n",
       "    </tr>\n",
       "    <tr>\n",
       "      <td>4</td>\n",
       "      <td>5.552650</td>\n",
       "      <td>5.459272</td>\n",
       "      <td>0.179688</td>\n",
       "      <td>0.846869</td>\n",
       "      <td>09:03</td>\n",
       "    </tr>\n",
       "    <tr>\n",
       "      <td>5</td>\n",
       "      <td>4.849602</td>\n",
       "      <td>4.738389</td>\n",
       "      <td>0.276042</td>\n",
       "      <td>0.890189</td>\n",
       "      <td>08:25</td>\n",
       "    </tr>\n",
       "    <tr>\n",
       "      <td>6</td>\n",
       "      <td>4.263824</td>\n",
       "      <td>4.591637</td>\n",
       "      <td>0.309896</td>\n",
       "      <td>0.897164</td>\n",
       "      <td>09:54</td>\n",
       "    </tr>\n",
       "    <tr>\n",
       "      <td>7</td>\n",
       "      <td>3.793914</td>\n",
       "      <td>4.360951</td>\n",
       "      <td>0.388021</td>\n",
       "      <td>0.889492</td>\n",
       "      <td>08:40</td>\n",
       "    </tr>\n",
       "    <tr>\n",
       "      <td>8</td>\n",
       "      <td>3.268465</td>\n",
       "      <td>3.467518</td>\n",
       "      <td>0.494792</td>\n",
       "      <td>0.906541</td>\n",
       "      <td>07:45</td>\n",
       "    </tr>\n",
       "    <tr>\n",
       "      <td>9</td>\n",
       "      <td>2.799161</td>\n",
       "      <td>2.730831</td>\n",
       "      <td>0.617188</td>\n",
       "      <td>0.932347</td>\n",
       "      <td>07:57</td>\n",
       "    </tr>\n",
       "    <tr>\n",
       "      <td>10</td>\n",
       "      <td>2.532600</td>\n",
       "      <td>2.808088</td>\n",
       "      <td>0.614583</td>\n",
       "      <td>0.919250</td>\n",
       "      <td>07:59</td>\n",
       "    </tr>\n",
       "    <tr>\n",
       "      <td>11</td>\n",
       "      <td>2.231537</td>\n",
       "      <td>2.261959</td>\n",
       "      <td>0.687500</td>\n",
       "      <td>0.943041</td>\n",
       "      <td>07:57</td>\n",
       "    </tr>\n",
       "    <tr>\n",
       "      <td>12</td>\n",
       "      <td>1.853381</td>\n",
       "      <td>1.653679</td>\n",
       "      <td>0.776042</td>\n",
       "      <td>0.946838</td>\n",
       "      <td>08:06</td>\n",
       "    </tr>\n",
       "    <tr>\n",
       "      <td>13</td>\n",
       "      <td>1.578880</td>\n",
       "      <td>1.338842</td>\n",
       "      <td>0.822917</td>\n",
       "      <td>0.950093</td>\n",
       "      <td>08:08</td>\n",
       "    </tr>\n",
       "    <tr>\n",
       "      <td>14</td>\n",
       "      <td>1.378956</td>\n",
       "      <td>0.948956</td>\n",
       "      <td>0.877604</td>\n",
       "      <td>0.959082</td>\n",
       "      <td>08:23</td>\n",
       "    </tr>\n",
       "    <tr>\n",
       "      <td>15</td>\n",
       "      <td>1.292623</td>\n",
       "      <td>0.841652</td>\n",
       "      <td>0.921875</td>\n",
       "      <td>0.955673</td>\n",
       "      <td>08:04</td>\n",
       "    </tr>\n",
       "    <tr>\n",
       "      <td>16</td>\n",
       "      <td>1.164200</td>\n",
       "      <td>0.647221</td>\n",
       "      <td>0.950521</td>\n",
       "      <td>0.961175</td>\n",
       "      <td>08:23</td>\n",
       "    </tr>\n",
       "    <tr>\n",
       "      <td>17</td>\n",
       "      <td>1.031911</td>\n",
       "      <td>0.561495</td>\n",
       "      <td>0.963542</td>\n",
       "      <td>0.963112</td>\n",
       "      <td>08:15</td>\n",
       "    </tr>\n",
       "    <tr>\n",
       "      <td>18</td>\n",
       "      <td>1.001725</td>\n",
       "      <td>0.529171</td>\n",
       "      <td>0.968750</td>\n",
       "      <td>0.962725</td>\n",
       "      <td>09:16</td>\n",
       "    </tr>\n",
       "    <tr>\n",
       "      <td>19</td>\n",
       "      <td>1.042400</td>\n",
       "      <td>0.522274</td>\n",
       "      <td>0.968750</td>\n",
       "      <td>0.962570</td>\n",
       "      <td>08:29</td>\n",
       "    </tr>\n",
       "  </tbody>\n",
       "</table>"
      ],
      "text/plain": [
       "<IPython.core.display.HTML object>"
      ]
     },
     "metadata": {},
     "output_type": "display_data"
    },
    {
     "name": "stdout",
     "output_type": "stream",
     "text": [
      "Better model found at epoch 0 with valid_loss value: 7.272987365722656.\n",
      "Better model found at epoch 1 with valid_loss value: 7.096010684967041.\n",
      "Better model found at epoch 2 with valid_loss value: 6.744588851928711.\n",
      "Better model found at epoch 3 with valid_loss value: 6.139522552490234.\n",
      "Better model found at epoch 4 with valid_loss value: 5.4592719078063965.\n",
      "Better model found at epoch 5 with valid_loss value: 4.738388538360596.\n",
      "Better model found at epoch 6 with valid_loss value: 4.591637134552002.\n",
      "Better model found at epoch 7 with valid_loss value: 4.360950946807861.\n",
      "Better model found at epoch 8 with valid_loss value: 3.467517852783203.\n",
      "Better model found at epoch 9 with valid_loss value: 2.7308309078216553.\n",
      "Better model found at epoch 11 with valid_loss value: 2.2619590759277344.\n",
      "Better model found at epoch 12 with valid_loss value: 1.6536785364151.\n",
      "Better model found at epoch 13 with valid_loss value: 1.3388423919677734.\n",
      "Better model found at epoch 14 with valid_loss value: 0.9489558339118958.\n",
      "Better model found at epoch 15 with valid_loss value: 0.8416516780853271.\n",
      "Better model found at epoch 16 with valid_loss value: 0.6472206711769104.\n",
      "Better model found at epoch 17 with valid_loss value: 0.561494767665863.\n",
      "Better model found at epoch 18 with valid_loss value: 0.529171347618103.\n",
      "Better model found at epoch 19 with valid_loss value: 0.5222739577293396.\n"
     ]
    }
   ],
   "source": [
    "learn.fit_one_cycle(20, 5e-4, cbs = [SaveModelCallback()])"
   ]
  },
  {
   "cell_type": "code",
   "execution_count": 10,
   "id": "21ecc15d-128a-4007-8b47-1141cc3a87fa",
   "metadata": {},
   "outputs": [],
   "source": [
    "learn.export(\"../inshop_classification_baseline_unfrozen.pkl\")"
   ]
  },
  {
   "cell_type": "code",
   "execution_count": 11,
   "id": "a62c3797-7dee-4fce-93b4-ef4e7a8f8684",
   "metadata": {},
   "outputs": [
    {
     "data": {
      "text/html": [
       "\n",
       "<style>\n",
       "    /* Turns off some styling */\n",
       "    progress {\n",
       "        /* gets rid of default border in Firefox and Opera. */\n",
       "        border: none;\n",
       "        /* Needs to be in here for Safari polyfill so background images work as expected. */\n",
       "        background-size: auto;\n",
       "    }\n",
       "    .progress-bar-interrupted, .progress-bar-interrupted::-webkit-progress-bar {\n",
       "        background: #F44336;\n",
       "    }\n",
       "</style>\n"
      ],
      "text/plain": [
       "<IPython.core.display.HTML object>"
      ]
     },
     "metadata": {},
     "output_type": "display_data"
    },
    {
     "data": {
      "text/html": [],
      "text/plain": [
       "<IPython.core.display.HTML object>"
      ]
     },
     "metadata": {},
     "output_type": "display_data"
    },
    {
     "data": {
      "text/plain": [
       "SuggestedLRs(valley=6.30957365501672e-05)"
      ]
     },
     "execution_count": 11,
     "metadata": {},
     "output_type": "execute_result"
    },
    {
     "data": {
      "image/png": "[encoded data removed]",
      "text/plain": [
       "<Figure size 432x288 with 1 Axes>"
      ]
     },
     "metadata": {
      "needs_background": "light"
     },
     "output_type": "display_data"
    }
   ],
   "source": [
    "learn.unfreeze()\n",
    "learn.lr_find()"
   ]
  },
  {
   "cell_type": "code",
   "execution_count": 12,
   "id": "d180f83a-bee0-49ca-85a5-e9e25af0bf9a",
   "metadata": {},
   "outputs": [
    {
     "data": {
      "text/html": [
       "\n",
       "<style>\n",
       "    /* Turns off some styling */\n",
       "    progress {\n",
       "        /* gets rid of default border in Firefox and Opera. */\n",
       "        border: none;\n",
       "        /* Needs to be in here for Safari polyfill so background images work as expected. */\n",
       "        background-size: auto;\n",
       "    }\n",
       "    .progress-bar-interrupted, .progress-bar-interrupted::-webkit-progress-bar {\n",
       "        background: #F44336;\n",
       "    }\n",
       "</style>\n"
      ],
      "text/plain": [
       "<IPython.core.display.HTML object>"
      ]
     },
     "metadata": {},
     "output_type": "display_data"
    },
    {
     "data": {
      "text/html": [
       "<table border=\"1\" class=\"dataframe\">\n",
       "  <thead>\n",
       "    <tr style=\"text-align: left;\">\n",
       "      <th>epoch</th>\n",
       "      <th>train_loss</th>\n",
       "      <th>valid_loss</th>\n",
       "      <th>accuracy</th>\n",
       "      <th>recallat10</th>\n",
       "      <th>time</th>\n",
       "    </tr>\n",
       "  </thead>\n",
       "  <tbody>\n",
       "    <tr>\n",
       "      <td>0</td>\n",
       "      <td>0.999166</td>\n",
       "      <td>0.521784</td>\n",
       "      <td>0.968750</td>\n",
       "      <td>0.963577</td>\n",
       "      <td>08:30</td>\n",
       "    </tr>\n",
       "    <tr>\n",
       "      <td>1</td>\n",
       "      <td>0.987256</td>\n",
       "      <td>0.507536</td>\n",
       "      <td>0.973958</td>\n",
       "      <td>0.961717</td>\n",
       "      <td>08:35</td>\n",
       "    </tr>\n",
       "    <tr>\n",
       "      <td>2</td>\n",
       "      <td>0.961016</td>\n",
       "      <td>0.608505</td>\n",
       "      <td>0.960938</td>\n",
       "      <td>0.952883</td>\n",
       "      <td>07:44</td>\n",
       "    </tr>\n",
       "    <tr>\n",
       "      <td>3</td>\n",
       "      <td>0.948867</td>\n",
       "      <td>0.447736</td>\n",
       "      <td>0.979167</td>\n",
       "      <td>0.962802</td>\n",
       "      <td>08:59</td>\n",
       "    </tr>\n",
       "    <tr>\n",
       "      <td>4</td>\n",
       "      <td>0.908665</td>\n",
       "      <td>0.459869</td>\n",
       "      <td>0.979167</td>\n",
       "      <td>0.959005</td>\n",
       "      <td>08:54</td>\n",
       "    </tr>\n",
       "    <tr>\n",
       "      <td>5</td>\n",
       "      <td>0.834435</td>\n",
       "      <td>0.352218</td>\n",
       "      <td>0.986979</td>\n",
       "      <td>0.961097</td>\n",
       "      <td>08:29</td>\n",
       "    </tr>\n",
       "    <tr>\n",
       "      <td>6</td>\n",
       "      <td>0.727094</td>\n",
       "      <td>0.404311</td>\n",
       "      <td>0.986979</td>\n",
       "      <td>0.954898</td>\n",
       "      <td>08:00</td>\n",
       "    </tr>\n",
       "    <tr>\n",
       "      <td>7</td>\n",
       "      <td>0.669033</td>\n",
       "      <td>0.265550</td>\n",
       "      <td>0.989583</td>\n",
       "      <td>0.959315</td>\n",
       "      <td>09:54</td>\n",
       "    </tr>\n",
       "    <tr>\n",
       "      <td>8</td>\n",
       "      <td>0.605437</td>\n",
       "      <td>0.218392</td>\n",
       "      <td>0.997396</td>\n",
       "      <td>0.962027</td>\n",
       "      <td>08:19</td>\n",
       "    </tr>\n",
       "    <tr>\n",
       "      <td>9</td>\n",
       "      <td>0.537093</td>\n",
       "      <td>0.165525</td>\n",
       "      <td>1.000000</td>\n",
       "      <td>0.965360</td>\n",
       "      <td>08:25</td>\n",
       "    </tr>\n",
       "    <tr>\n",
       "      <td>10</td>\n",
       "      <td>0.491650</td>\n",
       "      <td>0.138887</td>\n",
       "      <td>0.997396</td>\n",
       "      <td>0.964507</td>\n",
       "      <td>10:53</td>\n",
       "    </tr>\n",
       "    <tr>\n",
       "      <td>11</td>\n",
       "      <td>0.443179</td>\n",
       "      <td>0.123986</td>\n",
       "      <td>0.997396</td>\n",
       "      <td>0.965515</td>\n",
       "      <td>09:14</td>\n",
       "    </tr>\n",
       "    <tr>\n",
       "      <td>12</td>\n",
       "      <td>0.423419</td>\n",
       "      <td>0.134922</td>\n",
       "      <td>0.997396</td>\n",
       "      <td>0.962027</td>\n",
       "      <td>09:00</td>\n",
       "    </tr>\n",
       "    <tr>\n",
       "      <td>13</td>\n",
       "      <td>0.387220</td>\n",
       "      <td>0.091477</td>\n",
       "      <td>0.997396</td>\n",
       "      <td>0.966677</td>\n",
       "      <td>09:39</td>\n",
       "    </tr>\n",
       "    <tr>\n",
       "      <td>14</td>\n",
       "      <td>0.337585</td>\n",
       "      <td>0.079359</td>\n",
       "      <td>0.997396</td>\n",
       "      <td>0.966522</td>\n",
       "      <td>08:36</td>\n",
       "    </tr>\n",
       "    <tr>\n",
       "      <td>15</td>\n",
       "      <td>0.327811</td>\n",
       "      <td>0.068862</td>\n",
       "      <td>0.997396</td>\n",
       "      <td>0.966987</td>\n",
       "      <td>08:14</td>\n",
       "    </tr>\n",
       "    <tr>\n",
       "      <td>16</td>\n",
       "      <td>0.296255</td>\n",
       "      <td>0.064077</td>\n",
       "      <td>0.997396</td>\n",
       "      <td>0.967374</td>\n",
       "      <td>09:51</td>\n",
       "    </tr>\n",
       "    <tr>\n",
       "      <td>17</td>\n",
       "      <td>0.314362</td>\n",
       "      <td>0.062487</td>\n",
       "      <td>0.997396</td>\n",
       "      <td>0.966522</td>\n",
       "      <td>09:22</td>\n",
       "    </tr>\n",
       "    <tr>\n",
       "      <td>18</td>\n",
       "      <td>0.290564</td>\n",
       "      <td>0.060661</td>\n",
       "      <td>0.997396</td>\n",
       "      <td>0.966600</td>\n",
       "      <td>11:09</td>\n",
       "    </tr>\n",
       "    <tr>\n",
       "      <td>19</td>\n",
       "      <td>0.298585</td>\n",
       "      <td>0.060534</td>\n",
       "      <td>0.997396</td>\n",
       "      <td>0.967374</td>\n",
       "      <td>11:59</td>\n",
       "    </tr>\n",
       "  </tbody>\n",
       "</table>"
      ],
      "text/plain": [
       "<IPython.core.display.HTML object>"
      ]
     },
     "metadata": {},
     "output_type": "display_data"
    },
    {
     "name": "stdout",
     "output_type": "stream",
     "text": [
      "Better model found at epoch 0 with valid_loss value: 0.5217835903167725.\n",
      "Better model found at epoch 1 with valid_loss value: 0.5075358152389526.\n",
      "Better model found at epoch 3 with valid_loss value: 0.4477361738681793.\n",
      "Better model found at epoch 5 with valid_loss value: 0.35221800208091736.\n",
      "Better model found at epoch 7 with valid_loss value: 0.26554951071739197.\n",
      "Better model found at epoch 8 with valid_loss value: 0.21839244663715363.\n",
      "Better model found at epoch 9 with valid_loss value: 0.16552495956420898.\n",
      "Better model found at epoch 10 with valid_loss value: 0.13888664543628693.\n",
      "Better model found at epoch 11 with valid_loss value: 0.12398605793714523.\n",
      "Better model found at epoch 13 with valid_loss value: 0.0914773941040039.\n",
      "Better model found at epoch 14 with valid_loss value: 0.07935921102762222.\n",
      "Better model found at epoch 15 with valid_loss value: 0.06886151432991028.\n",
      "Better model found at epoch 16 with valid_loss value: 0.06407652795314789.\n",
      "Better model found at epoch 17 with valid_loss value: 0.062486518174409866.\n",
      "Better model found at epoch 18 with valid_loss value: 0.06066123768687248.\n",
      "Better model found at epoch 19 with valid_loss value: 0.06053359806537628.\n"
     ]
    }
   ],
   "source": [
    "learn.fit_one_cycle(20, 1e-4, cbs = [SaveModelCallback()])"
   ]
  },
  {
   "cell_type": "code",
   "execution_count": 14,
   "id": "a797fc43-1e43-4e83-b842-aa03798c9f4c",
   "metadata": {},
   "outputs": [],
   "source": [
    "learn.export(\"../inshop_classification_baseline_unfrozen.pkl\")"
   ]
  }
 ],
 "metadata": {
  "kernelspec": {
   "display_name": "Python 3 (ipykernel)",
   "language": "python",
   "name": "python3"
  },
  "language_info": {
   "codemirror_mode": {
    "name": "ipython",
    "version": 3
   },
   "file_extension": ".py",
   "mimetype": "text/x-python",
   "name": "python",
   "nbconvert_exporter": "python",
   "pygments_lexer": "ipython3",
   "version": "3.8.12"
  }
 },
 "nbformat": 4,
 "nbformat_minor": 5
}
